{
  "nbformat": 4,
  "nbformat_minor": 0,
  "metadata": {
    "colab": {
      "provenance": [],
      "authorship_tag": "ABX9TyMssD1FljTivrFW4ewY2QCD",
      "include_colab_link": true
    },
    "kernelspec": {
      "name": "python3",
      "display_name": "Python 3"
    },
    "language_info": {
      "name": "python"
    }
  },
  "cells": [
    {
      "cell_type": "markdown",
      "metadata": {
        "id": "view-in-github",
        "colab_type": "text"
      },
      "source": [
        "<a href=\"https://colab.research.google.com/github/rajeshmore1/Git-and-Github/blob/main/Git_and_Github.ipynb\" target=\"_parent\"><img src=\"https://colab.research.google.com/assets/colab-badge.svg\" alt=\"Open In Colab\"/></a>"
      ]
    },
    {
      "cell_type": "markdown",
      "source": [
        "# GIT"
      ],
      "metadata": {
        "id": "Gk0nPPjRAfOJ"
      }
    },
    {
      "cell_type": "markdown",
      "source": [
        "## GIT VERSION\n",
        "\n"
      ],
      "metadata": {
        "id": "FFkMyZI-AfQw"
      }
    },
    {
      "cell_type": "code",
      "source": [
        "# TO CHECK THE VERSION OF GIT\n",
        "git --version\n"
      ],
      "metadata": {
        "id": "X0ESw5aNAsOl"
      },
      "execution_count": null,
      "outputs": []
    },
    {
      "cell_type": "markdown",
      "source": [
        "## What is Git?\n",
        "Git is a popular version control system. It was created by Linus Torvalds in 2005, and has been maintained by Junio Hamano since then.\n",
        "\n",
        "##It is used for:\n",
        "\n",
        "1. Tracking code changes\n",
        "2. Tracking who made changes\n",
        "3. Coding collaboration\n",
        "## What does Git do?\n",
        "1. Manage projects with Repositories\n",
        "2. Clone a project to work on a local copy\n",
        "3. Control and track changes with Staging and Committing\n",
        "4. Branch and Merge to allow for work on different parts and versions of a project\n",
        "5. Pull the latest version of the project to a local copy\n",
        "6. Push local updates to the main project\n",
        "##Working with Git\n",
        "1. Initialize Git on a folder, making it a Repository\n",
        "2. Git now creates a hidden folder to keep track of changes in that folder\n",
        "3. When a file is changed, added or deleted, it is considered modified\n",
        "4. You select the modified files you want to Stage\n",
        "5. The Staged files are Committed, which prompts Git to store a permanent snapshot of the files\n",
        "6. Git allows you to see the full history of every commit.\n",
        "7. You can revert back to any previous commit.\n",
        "8. Git does not store a separate copy of every file in every commit, but keeps track of changes made in each commit!\n",
        "\n",
        "# Why Git?\n",
        "1. Over 70% of developers use Git!\n",
        "2. Developers can work together from anywhere in the world.\n",
        "3. Developers can see the full history of the project.\n",
        "4. Developers can revert to earlier versions of a project.\n",
        "#What is GitHub?\n",
        "1. Git is not the same as GitHub.\n",
        "2. GitHub makes tools that use Git.\n",
        "3. GitHub is the largest host of source code in the world, and has been owned by Microsoft since 2018.\n",
        "\n",
        "In this tutorial, we will focus on using Git with GitHub."
      ],
      "metadata": {
        "id": "lQ23YKAABAhq"
      }
    },
    {
      "cell_type": "markdown",
      "source": [
        "# Git Getting Started\n",
        "\n",
        "Git Install\n",
        "You can download Git for free from the following website: https://www.git-scm.com/\n",
        "\n",
        "Using Git with Command Line\n",
        "To start using Git, we are first going to open up our Command shell.\n",
        "\n",
        "For Windows, you can use Git bash, which comes included in Git for Windows. For Mac and Linux you can use the built-in terminal.\n",
        "\n",
        "The first thing we need to do, is to check if Git is properly installed:\n",
        "\n"
      ],
      "metadata": {
        "id": "kD_tiriGCCmI"
      }
    },
    {
      "cell_type": "code",
      "source": [
        "git --version\n"
      ],
      "metadata": {
        "id": "8o6aXgZIAzwg"
      },
      "execution_count": null,
      "outputs": []
    },
    {
      "cell_type": "markdown",
      "source": [
        "## Configure Git\n",
        "Now let Git know who you are. This is important for version control systems, as each Git commit uses this information:"
      ],
      "metadata": {
        "id": "aoeY-TsaCUp7"
      }
    },
    {
      "cell_type": "code",
      "source": [
        "git config --global user.name \"rajeshmore1\"\n",
        "git config --global user.email \"er.rajeshmore@gmail.com\""
      ],
      "metadata": {
        "id": "ZMu9dKyJCV8p"
      },
      "execution_count": null,
      "outputs": []
    },
    {
      "cell_type": "markdown",
      "source": [
        "Change the user name and e-mail address to your own. You will probably also want to use this when registering to GitHub later on.\n",
        "\n",
        "### Note:\n",
        "\n",
        "Use global to set the username and e-mail for every repository on your computer.\n",
        "\n",
        "If you want to set the username/e-mail for just the current repo, you can remove global"
      ],
      "metadata": {
        "id": "wIALQASxCnCz"
      }
    },
    {
      "cell_type": "markdown",
      "source": [
        "## Creating Git Folder\n",
        "\n",
        "Now, let's create a new folder for our project:\n",
        "\n"
      ],
      "metadata": {
        "id": "7q-wJu6OC0qI"
      }
    },
    {
      "cell_type": "code",
      "source": [
        "mkdir myproject\n",
        "cd myproject"
      ],
      "metadata": {
        "id": "E17MQ5HkCmQG"
      },
      "execution_count": null,
      "outputs": []
    },
    {
      "cell_type": "markdown",
      "source": [
        "mkdir makes a new directory.\n",
        "\n",
        "cd changes the current working directory.\n",
        "\n",
        "Now that we are in the correct directory. We can start by initializing Git!\n",
        "\n",
        "### Note:\n",
        " If you already have a folder/directory you would like to use for Git:\n",
        "\n",
        "Navigate to it in command line, or open it in your file explorer, right-click and select \"Git Bash here\""
      ],
      "metadata": {
        "id": "jvMmU5wIC923"
      }
    },
    {
      "cell_type": "markdown",
      "source": [
        "## Initialize Git\n",
        "Once you have navigated to the correct folder, you can initialize Git on that folder:*italicised text*"
      ],
      "metadata": {
        "id": "Wzlz0CmuDMCz"
      }
    },
    {
      "cell_type": "code",
      "source": [
        "git init \n"
      ],
      "metadata": {
        "id": "B8RQIssUC-j-"
      },
      "execution_count": null,
      "outputs": []
    },
    {
      "cell_type": "markdown",
      "source": [
        "You just created your first Git Repository!\n",
        "\n",
        "### Note: \n",
        "Git now knows that it should watch the folder you initiated it on.\n",
        "\n",
        "Git creates a hidden folder to keep track of changes."
      ],
      "metadata": {
        "id": "_6wd18gkDTH6"
      }
    },
    {
      "cell_type": "markdown",
      "source": [
        "# Git New Files\n",
        "\n",
        "Git Adding New Files\n",
        "You just created your first local Git repo. But it is empty.\n",
        "\n",
        "So let's add some files, or create a new file using your favourite text editor. Then save or move it to the folder you just created.\n",
        "\n",
        "\n",
        "For this example, I am going to use a simple txt file like this:"
      ],
      "metadata": {
        "id": "xi9e5yH_DmDQ"
      }
    },
    {
      "cell_type": "code",
      "source": [
        "touch file_name.txt\n",
        "\n",
        "\"\"\"OR\"\"\"\n",
        "\n",
        "echo This is some text > myfile.txt\n",
        "\n",
        "\"This will create myfile.txt and its contents will be the string This is some text.\"\n",
        "\n",
        "\"OR\"\n",
        "\n",
        "vim myfile.txt\n",
        "emacs myfiles.txt\n",
        "nano myfile.txt\n"
      ],
      "metadata": {
        "id": "SVUUVMq2Eicy"
      },
      "execution_count": null,
      "outputs": []
    },
    {
      "cell_type": "markdown",
      "source": [
        "Let's go back to the terminal and list the files in our current working directory:\n",
        "\n",
        "ls\n",
        "\n",
        "\n",
        "--> myfile.txt\n",
        "\n",
        "ls will list the files in the directory. We can see that myfile.txt is there.\n",
        "\n",
        "Then we check the Git status and see if it is a part of our repo:\n",
        "\n"
      ],
      "metadata": {
        "id": "_IiE2dtTFBg4"
      }
    },
    {
      "cell_type": "code",
      "source": [
        "git status\n"
      ],
      "metadata": {
        "id": "vvxtGqnXFKcn"
      },
      "execution_count": null,
      "outputs": []
    },
    {
      "cell_type": "markdown",
      "source": [
        "![image.png](data:image/png;base64,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)"
      ],
      "metadata": {
        "id": "LnAT5jwAFriW"
      }
    },
    {
      "cell_type": "markdown",
      "source": [
        "Now Git is aware of the file, but has not added it to our repository!\n",
        "\n",
        "Files in your Git repository folder can be in one of 2 states:\n",
        "\n",
        "Tracked - files that Git knows about and are added to the repository\n",
        "\n",
        "Untracked - files that are in your working directory, but not added to the repository\n",
        "\n",
        " When you first add files to an empty repository, they are all untracked. To get Git to track them, you need to stage them, or add them to the staging environment.\n",
        "\n",
        "We will cover the staging environment in the next chapter."
      ],
      "metadata": {
        "id": "cdhZtihzF1wK"
      }
    },
    {
      "cell_type": "markdown",
      "source": [
        "# Git Staging Environment\n",
        "\n",
        "One of the core functions of Git is the concepts of the Staging Environment, and the Commit.\n",
        "\n",
        "As you are working, you may be adding, editing and removing files. But whenever you hit a milestone or finish a part of the work, you should add the files to a Staging Environment.\n",
        "\n",
        "Staged files are files that are ready to be committed to the repository you are working on. You will learn more about commit shortly.\n",
        "\n",
        "For now, we are done working with myfile.txt So we can add it to the Staging Environment:"
      ],
      "metadata": {
        "id": "rVc_Ugg7GC4J"
      }
    },
    {
      "cell_type": "code",
      "source": [
        "git add myfile.txt"
      ],
      "metadata": {
        "id": "ZAI9x9TSFs3K"
      },
      "execution_count": null,
      "outputs": []
    },
    {
      "cell_type": "markdown",
      "source": [
        "The file should be Staged. Let's check the status::\n",
        "\n"
      ],
      "metadata": {
        "id": "5fzospxRGe2u"
      }
    },
    {
      "cell_type": "code",
      "source": [
        "git status\n",
        "\n",
        "#Output:\n",
        "\n",
        "\"\"\"On branch master\n",
        "\n",
        "No commits yet\n",
        "\n",
        "Changes to be committed:\n",
        "  (use \"git rm --cached ...\" to unstage)\n",
        "    new file: myfile.txt\"\"\""
      ],
      "metadata": {
        "id": "7thTzsM9Gfh0"
      },
      "execution_count": null,
      "outputs": []
    },
    {
      "cell_type": "markdown",
      "source": [
        "Now the file has been added to the Staging Environment.\n",
        "\n"
      ],
      "metadata": {
        "id": "l5fkfQt5GtmC"
      }
    },
    {
      "cell_type": "code",
      "source": [
        "# To add multiple files simultaneously to the staging area\n",
        "\n",
        "git add --all"
      ],
      "metadata": {
        "id": "YRWAua4JGuB4"
      },
      "execution_count": null,
      "outputs": []
    },
    {
      "cell_type": "markdown",
      "source": [
        "# Git Commit\n",
        "\n",
        "Since we have finished our work, we are ready move from stage to commit for our repo.\n",
        "\n",
        "Adding commits keep track of our progress and changes as we work. Git considers each commit change point or \"save point\". It is a point in the project you can go back to if you find a bug, or want to make a change.\n",
        "\n",
        "When we commit, we should always include a message.\n",
        "\n",
        "By adding clear messages to each commit, it is easy for yourself (and others) to see what has changed and when."
      ],
      "metadata": {
        "id": "8piqcav1HpNA"
      }
    },
    {
      "cell_type": "code",
      "source": [
        "git commit -m \"First release of Git Learning\"\n",
        "\n",
        "Output:\n",
        "\n",
        "\"\"\"[master (root-commit) 221ec6e] First release of Hello World!\n",
        " 1 files changed, 26 insertions(+)\"\"\"\n"
      ],
      "metadata": {
        "id": "RmSRTId9H24u"
      },
      "execution_count": null,
      "outputs": []
    },
    {
      "cell_type": "markdown",
      "source": [
        "The commit command performs a commit, and the -m \"message\" adds a message.\n",
        "\n",
        "The Staging Environment has been committed to our repo, with the message:\n",
        "\"First release of Git Learning\""
      ],
      "metadata": {
        "id": "XaQ6zyn_IP6E"
      }
    },
    {
      "cell_type": "markdown",
      "source": [
        "## Git Commit without Stage\n",
        "\n",
        "Sometimes, when you make small changes, using the staging environment seems like a waste of time. It is possible to commit changes directly, skipping the staging environment. The -a option will automatically stage every changed, already tracked file.\n",
        "\n"
      ],
      "metadata": {
        "id": "xZGjePuKIc25"
      }
    },
    {
      "cell_type": "code",
      "source": [
        "git commit -a -m \"Updated myfile.txt with a new line\"\n"
      ],
      "metadata": {
        "id": "7pghpD2OITpm"
      },
      "execution_count": null,
      "outputs": []
    },
    {
      "cell_type": "markdown",
      "source": [
        "Warning: Skipping the Staging Environment is not generally recommended.\n",
        "\n",
        "Skipping the stage step can sometimes make you include unwanted changes."
      ],
      "metadata": {
        "id": "bepMue9cIuQa"
      }
    },
    {
      "cell_type": "markdown",
      "source": [
        "## Git Commit Log\n",
        "\n",
        "\n",
        "To view the history of commits for a repository, you can use the log command:\n",
        "\n"
      ],
      "metadata": {
        "id": "zt7BCde7IxlK"
      }
    },
    {
      "cell_type": "code",
      "source": [
        "git log\n",
        "\n",
        "OUTPUT:\n",
        "\n",
        "\"\"\"\n",
        "commit 09f4acd3f8836b7f6fc44ad9e012f82faf861803 (HEAD -> master)\n",
        "Author: rajeshmore1\n",
        "Date:   Fri Mar 26 09:35:54 2021 +0100\n",
        "\n",
        "    Updated myfile.txt with a new line\n",
        "\n",
        "commit 221ec6e10aeedbfd02b85264087cd9adc18e4b26\n",
        "Author: rajeshmore1\n",
        "Date:   Fri Mar 26 09:13:07 2021 +0100\n",
        "\n",
        "    First release of Git Learning\"\"\""
      ],
      "metadata": {
        "id": "BdOmELmaIum5"
      },
      "execution_count": null,
      "outputs": []
    },
    {
      "cell_type": "markdown",
      "source": [
        "# Git Help\n",
        "If you are having trouble remembering commands or options for commands, you can use Git help.\n",
        "\n",
        "There are a couple of different ways you can use the help command in command line:\n",
        "\n",
        "git command -help -  See all the available options for the specific command\n",
        "\n",
        "git help --all -  See all possible commands\n",
        " Let's go over the different commands."
      ],
      "metadata": {
        "id": "9d5HTSSfJP7v"
      }
    },
    {
      "cell_type": "code",
      "source": [
        "git command -help"
      ],
      "metadata": {
        "id": "Bwp-dFS-JS4R"
      },
      "execution_count": null,
      "outputs": []
    },
    {
      "cell_type": "code",
      "source": [
        "git help --all"
      ],
      "metadata": {
        "id": "9aSFkIlcJXKV"
      },
      "execution_count": null,
      "outputs": []
    },
    {
      "cell_type": "markdown",
      "source": [
        "# Git Branch \n",
        "\n",
        "## Working with Git Branches\n",
        "In Git, a branch is a new/separate version of the main repository.\n",
        "\n",
        "Let's say you have a large project, and you need to update the design on it.\n",
        "\n",
        "How would that work without and with Git:\n",
        "\n",
        "### Without Git:\n",
        "\n",
        "Make copies of all the relevant files to avoid impacting the live version\n",
        "\n",
        "Start working with the design and find that code depend on code in other files, that also need to be changed!\n",
        "\n",
        "Make copies of the dependant files as well. Making sure that every file dependency references the correct file name.\n",
        "\n",
        "EMERGENCY! There is an unrelated error somewhere else in the project that needs to be fixed ASAP!\n",
        "\n",
        "Save all your files, making a note of the names of the copies you were working on.\n",
        "\n",
        "Work on the unrelated error and update the code to fix it.\n",
        "\n",
        "Go back to the design, and finish the work there.\n",
        "\n",
        "Copy the code or rename the files, so the updated design is on the live version\n",
        "(2 weeks later, you realize that the unrelated error was not fixed in the new design version because you copied the files before the fix)\n",
        "\n",
        "## With Git:\n",
        "\n",
        "With a new branch called new-design, edit the code directly without impacting the main branch.\n",
        "\n",
        "EMERGENCY! There is an unrelated error somewhere else in the project that needs to be fixed ASAP!\n",
        "\n",
        "Create a new branch from the main project called small-error-fix\n",
        "Fix the unrelated error and merge the small-error-fix branch with the main branch.\n",
        "\n",
        "You go back to the new-design branch, and finish the work there\n",
        "Merge the new-design branch with main (getting alerted to the small error fix that you were missing)\n",
        "\n",
        "Branches allow you to work on different parts of a project without impacting the main branch.\n",
        "\n",
        "When the work is complete, a branch can be merged with the main project.\n",
        "\n",
        "You can even switch between branches and work on different projects without them interfering with each other.\n",
        "\n",
        "Branching in Git is very lightweight and fast!\n",
        "\n",
        "\n",
        "\n"
      ],
      "metadata": {
        "id": "fS1Rvf4qJeyr"
      }
    },
    {
      "cell_type": "markdown",
      "source": [
        "## New Git Branch\n",
        "Let add some new features to our myfile.txt page.\n",
        "\n",
        "We are working in our local repository, and we do not want to disturb or possibly wreck the main project.\n",
        "\n",
        "So we create a new branch:\n",
        "\n"
      ],
      "metadata": {
        "id": "uvuLd08bN1Iz"
      }
    },
    {
      "cell_type": "code",
      "source": [
        "git branch eda"
      ],
      "metadata": {
        "id": "xMTKhDHvJ0gM"
      },
      "execution_count": null,
      "outputs": []
    },
    {
      "cell_type": "markdown",
      "source": [
        "Now we created a new branch called \"eda\"\n",
        "\n",
        "Let's confirm that we have created a new branch:"
      ],
      "metadata": {
        "id": "5gd40RJuOCVz"
      }
    },
    {
      "cell_type": "code",
      "source": [
        "git branch\n",
        "\"\"\"Output:   eda\n",
        "* master\"\"\""
      ],
      "metadata": {
        "id": "qXrBjQ1RODHv"
      },
      "execution_count": null,
      "outputs": []
    },
    {
      "cell_type": "markdown",
      "source": [
        "We can see the new branch with the name \"eda\", but the * beside master specifies that we are currently on that branch.\n",
        "\n",
        "checkout is the command used to check out a branch. Moving us from the current branch, to the one specified at the end of the command:\n",
        "\n"
      ],
      "metadata": {
        "id": "2z11nBTzOPiz"
      }
    },
    {
      "cell_type": "code",
      "source": [
        "git checkout eda\n",
        "Output \"\"\"Switched to branch 'hello-world-images'"
      ],
      "metadata": {
        "id": "Q-7MlEOFOQOC"
      },
      "execution_count": null,
      "outputs": []
    },
    {
      "cell_type": "markdown",
      "source": [
        "Now we have moved our current workspace from the master branch, to the new branch\n",
        "\n",
        "Open your favourite editor and make some changes.\n",
        "\n",
        "For this example, we added some text to the working folder and a line of code in the myfile.txt file:"
      ],
      "metadata": {
        "id": "eE_DQV5JOitj"
      }
    },
    {
      "cell_type": "code",
      "source": [
        "vim myfile.txt # this command will open the file in terminal\n",
        "Press \"i\" button # This step will allow to insert any words/edit the file\n",
        "Write/delete/edit the new sentence/existing words/the file.\n",
        "Press \":wq!\" to save and exit from the text file.\n"
      ],
      "metadata": {
        "id": "17ef75p5OsUJ"
      },
      "execution_count": null,
      "outputs": []
    },
    {
      "cell_type": "code",
      "source": [
        "\"\"\"Add second text file in our project directory.\"\"\"\n",
        "\n",
        "vim myfile2.txt # this command will create new empty file."
      ],
      "metadata": {
        "id": "m1uY1IusRCKa"
      },
      "execution_count": null,
      "outputs": []
    },
    {
      "cell_type": "markdown",
      "source": [
        "We have made changes to a file and added a new file in the working directory (same directory as the main branch).\n",
        "\n",
        "Now check the status of the current branch:"
      ],
      "metadata": {
        "id": "7QwcfFaoRXW6"
      }
    },
    {
      "cell_type": "code",
      "source": [
        "git status\n"
      ],
      "metadata": {
        "id": "Eo7ZwSghRebf"
      },
      "execution_count": null,
      "outputs": []
    },
    {
      "cell_type": "markdown",
      "source": [
        "So let's go through what happens here:\n",
        "\n",
        "There are changes to our myfile.txt, but the file is not staged for commit.\n",
        "\n",
        "myfile2.txt is not tracked.\n",
        "\n",
        "So we need to add both files to the Staging Environment for this branch:"
      ],
      "metadata": {
        "id": "Z1zQGLa6Rtkj"
      }
    },
    {
      "cell_type": "code",
      "source": [
        "git add --all"
      ],
      "metadata": {
        "id": "0bjN3ZWrR6dT"
      },
      "execution_count": null,
      "outputs": []
    },
    {
      "cell_type": "markdown",
      "source": [
        "Using --all instead of individual filenames will Stage all changed (new, modified, and deleted) files.\n",
        "\n",
        "Check the status of the branch:"
      ],
      "metadata": {
        "id": "d5aX_XbyR92Y"
      }
    },
    {
      "cell_type": "code",
      "source": [
        "git status\n",
        "\"\"\"\n",
        "On branch hello-world-images\n",
        "Changes to be committed:\n",
        "  (use \"git restore --staged ...\" to unstage)\n",
        "    new file: myfile2.txt\n",
        "    modified: myfile.txt\"\"\""
      ],
      "metadata": {
        "id": "ZmVTk7ofSA-q"
      },
      "execution_count": null,
      "outputs": []
    },
    {
      "cell_type": "markdown",
      "source": [
        "We are happy with our changes. So we will commit them to the branch:\n",
        "\n"
      ],
      "metadata": {
        "id": "oDvoPk_0TIIo"
      }
    },
    {
      "cell_type": "code",
      "source": [
        "git commit -m \"Added new files and modified old file\"\n",
        "\n",
        "\"\"\" Output:\n",
        "[eda 0312c55] Added new files and modified old file\n",
        "2 files changed, 1 insertion(+)\n",
        "create mode 100644 myfile2.txt\"\"\""
      ],
      "metadata": {
        "id": "Hcjwkq0qTImP"
      },
      "execution_count": null,
      "outputs": []
    },
    {
      "cell_type": "markdown",
      "source": [
        "Now we have a new branch, that is different from the master branch.\n",
        "\n",
        "Note: Using the -b option on checkout will create a new branch, and move to it, if it does not exist\n",
        "\n"
      ],
      "metadata": {
        "id": "4dx9Y3JkTkPy"
      }
    },
    {
      "cell_type": "markdown",
      "source": [
        "## Switching Between Branches\n",
        "\n",
        "Now let's see just how quick and easy it is to work with different branches, and how well it works.\n",
        "\n",
        "We are currently on the branch eda. We added an file to this branch, so let's list the files in the current directory:"
      ],
      "metadata": {
        "id": "m6JirfVeTrRb"
      }
    },
    {
      "cell_type": "code",
      "source": [
        "ls"
      ],
      "metadata": {
        "id": "MndM25G3Tk0u"
      },
      "execution_count": null,
      "outputs": []
    },
    {
      "cell_type": "markdown",
      "source": [
        "We can see the new file myfile2.txt, and if we open the txt file, we can see the code has been altered. All is as it should be.\n",
        "\n",
        "Now, let's see what happens when we change branch to master"
      ],
      "metadata": {
        "id": "APB3wZSGT97C"
      }
    },
    {
      "cell_type": "code",
      "source": [
        "git checkout master\n",
        "\"\"\"\n",
        "Switched to branch 'master'\n",
        "\"\"\""
      ],
      "metadata": {
        "id": "aScfDpEIUFPI"
      },
      "execution_count": null,
      "outputs": []
    },
    {
      "cell_type": "markdown",
      "source": [
        "The new file (myfile2.txt) is not a part of this branch. List the files in the current directory again:\n",
        "\n"
      ],
      "metadata": {
        "id": "WGwvYFSZULMF"
      }
    },
    {
      "cell_type": "code",
      "source": [
        "ls"
      ],
      "metadata": {
        "id": "BS3R2iUeURlo"
      },
      "execution_count": null,
      "outputs": []
    },
    {
      "cell_type": "markdown",
      "source": [
        "myfile2.txt is no longer there! And if we open the html file, we can see the code reverted to what it was before the alteration.\n",
        "\n",
        "See how easy it is to work with branches? And how this allows you to work on different things?"
      ],
      "metadata": {
        "id": "XlNQf1Bob4AM"
      }
    },
    {
      "cell_type": "markdown",
      "source": [
        "# Git Branch Merge"
      ],
      "metadata": {
        "id": "hM4TneJfcNVd"
      }
    },
    {
      "cell_type": "markdown",
      "source": [
        "## Merge Branches\n",
        "We have the eda branch, and so let's merge the master and \"eda\" branches.\n",
        "\n",
        "First, we need to change to the master branch:"
      ],
      "metadata": {
        "id": "Dd75QBVfcXb0"
      }
    },
    {
      "cell_type": "code",
      "source": [
        "git checkout master\n",
        "\n",
        "\"\"\"\n",
        "Switched to branch 'master'\n",
        "\"\"\""
      ],
      "metadata": {
        "id": "2XB7Cv8-b7H7"
      },
      "execution_count": null,
      "outputs": []
    },
    {
      "cell_type": "markdown",
      "source": [
        "Now we merge the current branch (master) with eda:\n",
        "\n"
      ],
      "metadata": {
        "id": "wP-81G8Jclve"
      }
    },
    {
      "cell_type": "code",
      "source": [
        "git merge eda\n",
        "\n",
        "\"\"\"\n",
        "Updating 09f4acd..dfa79db\n",
        "Fast-forward\n",
        " myfile.txt | 2 +-\n",
        " 1 file changed, 1 insertion(+), 1 deletion(-)\n",
        "\"\"\""
      ],
      "metadata": {
        "id": "IHAtCM65coRT"
      },
      "execution_count": null,
      "outputs": []
    },
    {
      "cell_type": "markdown",
      "source": [
        "Since the eda branch came directly from master, and no other changes had been made to master while we were working, Git sees this as a continuation of master. So it can \"Fast-forward\", just pointing both master and eda to the same commit.\n",
        "\n",
        "As master and emergency-fix are essentially the same now, we can delete emergency-fix, as it is no longer needed:"
      ],
      "metadata": {
        "id": "oONga5c-c69b"
      }
    },
    {
      "cell_type": "code",
      "source": [
        "git branch -d eda\n",
        "\n",
        "\"\"\"\n",
        "Deleted branch emergency-fix (was dfa79db).\n",
        "\"\"\""
      ],
      "metadata": {
        "id": "aPJ3I7XedGC8"
      },
      "execution_count": null,
      "outputs": []
    }
  ]
}